{
 "cells": [
  {
   "cell_type": "markdown",
   "metadata": {},
   "source": [
    "Q1. Explain the assumptions required to use ANOVA and provide examples of violations that could impact\n",
    "the validity of the results"
   ]
  },
  {
   "cell_type": "code",
   "execution_count": 1,
   "metadata": {},
   "outputs": [
    {
     "name": "stdout",
     "output_type": "stream",
     "text": [
      "Shapiro-Wilk p-values: Group1=0.3535, Group2=0.3469, Group3=0.4576\n",
      "Levene Test p-value for Homogeneity of Variances: 0.0269\n"
     ]
    },
    {
     "data": {
      "image/png": "[encoded data removed]",
      "text/plain": [
       "<Figure size 640x480 with 1 Axes>"
      ]
     },
     "metadata": {},
     "output_type": "display_data"
    },
    {
     "name": "stdout",
     "output_type": "stream",
     "text": [
      "ANOVA p-value: 0.0858\n",
      "The null hypothesis is not rejected. There is no significant difference between groups.\n"
     ]
    }
   ],
   "source": [
    "import numpy as np\n",
    "from scipy.stats import f_oneway, shapiro, levene\n",
    "import matplotlib.pyplot as plt\n",
    "\n",
    "# Generate data with violations\n",
    "group1 = np.random.normal(0, 1, 50)\n",
    "group2 = np.random.normal(0, 1.5, 50)\n",
    "group3 = np.random.normal(0, 1, 50) + np.random.uniform(0, 1, 50)\n",
    "\n",
    "# Check normality of residuals\n",
    "_, p_value1 = shapiro(group1 - np.mean(group1))\n",
    "_, p_value2 = shapiro(group2 - np.mean(group2))\n",
    "_, p_value3 = shapiro(group3 - np.mean(group3))\n",
    "\n",
    "print(f\"Shapiro-Wilk p-values: Group1={p_value1:.4f}, Group2={p_value2:.4f}, Group3={p_value3:.4f}\")\n",
    "\n",
    "# Check homogeneity of variances\n",
    "_, p_value_var = levene(group1, group2, group3)\n",
    "\n",
    "print(f\"Levene Test p-value for Homogeneity of Variances: {p_value_var:.4f}\")\n",
    "\n",
    "# Plot data\n",
    "plt.boxplot([group1, group2, group3], labels=['Group 1', 'Group 2', 'Group 3'])\n",
    "plt.title('Violations of ANOVA Assumptions')\n",
    "plt.show()\n",
    "\n",
    "# Perform ANOVA\n",
    "_, p_value_anova = f_oneway(group1, group2, group3)\n",
    "\n",
    "print(f\"ANOVA p-value: {p_value_anova:.4f}\")\n",
    "\n",
    "# Check significance\n",
    "alpha = 0.05\n",
    "if p_value_anova < alpha:\n",
    "    print(\"The null hypothesis is rejected. There is a significant difference between groups.\")\n",
    "else:\n",
    "    print(\"The null hypothesis is not rejected. There is no significant difference between groups.\")\n"
   ]
  },
  {
   "cell_type": "markdown",
   "metadata": {},
   "source": [
    "Q2. What are the three types of ANOVA, and in what situations would each be used?"
   ]
  },
  {
   "cell_type": "code",
   "execution_count": 2,
   "metadata": {},
   "outputs": [
    {
     "name": "stdout",
     "output_type": "stream",
     "text": [
      "One-Way ANOVA: There is a significant difference between groups.\n",
      "Two-Way ANOVA: There is no significant difference in any factor or interaction term.\n",
      "Repeated Measures ANOVA: There is no significant difference between conditions.\n"
     ]
    }
   ],
   "source": [
    "import numpy as np\n",
    "import pandas as pd\n",
    "from scipy.stats import f_oneway\n",
    "from statsmodels.formula.api import ols\n",
    "from statsmodels.stats.anova import anova_lm, AnovaRM\n",
    "\n",
    "# Example 1: One-Way ANOVA\n",
    "group1 = np.random.normal(30, 5, 100)\n",
    "group2 = np.random.normal(35, 5, 100)\n",
    "group3 = np.random.normal(40, 5, 100)\n",
    "\n",
    "_, p_value = f_oneway(group1, group2, group3)\n",
    "\n",
    "alpha = 0.05\n",
    "if p_value < alpha:\n",
    "    print(\"One-Way ANOVA: There is a significant difference between groups.\")\n",
    "else:\n",
    "    print(\"One-Way ANOVA: There is no significant difference between groups.\")\n",
    "\n",
    "# Example 2: Two-Way ANOVA\n",
    "np.random.seed(42)\n",
    "data = pd.DataFrame({\n",
    "    'Group': np.repeat(['A', 'B', 'C'], 30),\n",
    "    'Factor1': np.tile(['X', 'Y'], 45),\n",
    "    'Values': np.random.normal(50, 10, 90)\n",
    "})\n",
    "\n",
    "model = ols('Values ~ Group + Factor1 + Group:Factor1', data=data).fit()\n",
    "anova_results = anova_lm(model)\n",
    "\n",
    "if any(anova_results['PR(>F)'] < alpha):\n",
    "    print(\"Two-Way ANOVA: There is a significant difference in at least one factor or interaction term.\")\n",
    "else:\n",
    "    print(\"Two-Way ANOVA: There is no significant difference in any factor or interaction term.\")\n",
    "\n",
    "# Example 3: Repeated Measures ANOVA\n",
    "np.random.seed(42)\n",
    "data_rm = pd.DataFrame({\n",
    "    'Subject': np.repeat(range(1, 11), 3),\n",
    "    'Condition': np.tile(['A', 'B', 'C'], 10),\n",
    "    'Values': np.random.normal(60, 5, 30)\n",
    "})\n",
    "\n",
    "rm_anova = AnovaRM(data_rm, 'Values', 'Subject', within=['Condition']).fit()\n",
    "\n",
    "if rm_anova.anova_table['Pr > F']['Condition'] < alpha:\n",
    "    print(\"Repeated Measures ANOVA: There is a significant difference between conditions.\")\n",
    "else:\n",
    "    print(\"Repeated Measures ANOVA: There is no significant difference between conditions.\")\n"
   ]
  },
  {
   "cell_type": "markdown",
   "metadata": {},
   "source": [
    "Q3. What is the partitioning of variance in ANOVA, and why is it important to understand this concept?"
   ]
  },
  {
   "cell_type": "code",
   "execution_count": 3,
   "metadata": {},
   "outputs": [
    {
     "name": "stdout",
     "output_type": "stream",
     "text": [
      "Total Variance: 43.614256842021945\n",
      "Between-Group Variance: 5882.215747275684, Proportion: 134.8691041230404\n",
      "Within-Group Variance: 7202.061305330889, Proportion: 165.13089587695939\n"
     ]
    }
   ],
   "source": [
    "import numpy as np\n",
    "import pandas as pd\n",
    "from scipy.stats import f_oneway\n",
    "from statsmodels.formula.api import ols\n",
    "from statsmodels.stats.anova import anova_lm\n",
    "\n",
    "# Generate example data for One-Way ANOVA\n",
    "np.random.seed(42)\n",
    "group1 = np.random.normal(30, 5, 100)\n",
    "group2 = np.random.normal(35, 5, 100)\n",
    "group3 = np.random.normal(40, 5, 100)\n",
    "\n",
    "# Combine data into a DataFrame\n",
    "data = pd.DataFrame({\n",
    "    'Group': np.repeat(['A', 'B', 'C'], 100),\n",
    "    'Values': np.concatenate([group1, group2, group3])\n",
    "})\n",
    "\n",
    "# Fit One-Way ANOVA model\n",
    "model = ols('Values ~ Group', data=data).fit()\n",
    "anova_results = anova_lm(model)\n",
    "\n",
    "# Extract components of variance\n",
    "total_variance = np.var(data['Values'])\n",
    "between_group_variance = anova_results['sum_sq']['Group']\n",
    "within_group_variance = anova_results['sum_sq']['Residual']\n",
    "\n",
    "# Calculate proportions of variance\n",
    "prop_between_group = between_group_variance / total_variance\n",
    "prop_within_group = within_group_variance / total_variance\n",
    "\n",
    "# Print results\n",
    "print(f\"Total Variance: {total_variance}\")\n",
    "print(f\"Between-Group Variance: {between_group_variance}, Proportion: {prop_between_group}\")\n",
    "print(f\"Within-Group Variance: {within_group_variance}, Proportion: {prop_within_group}\")\n"
   ]
  },
  {
   "cell_type": "markdown",
   "metadata": {},
   "source": [
    "Q4. How would you calculate the total sum of squares (SST), explained sum of squares (SSE), and residual\n",
    "sum of squares (SSR) in a one-way ANOVA using Python?"
   ]
  },
  {
   "cell_type": "code",
   "execution_count": 4,
   "metadata": {},
   "outputs": [
    {
     "name": "stdout",
     "output_type": "stream",
     "text": [
      "Total Sum of Squares (SST): 13084.277052606583\n",
      "Explained Sum of Squares (SSE): 5882.215747275699\n",
      "Residual Sum of Squares (SSR): 7202.061305330889\n"
     ]
    }
   ],
   "source": [
    "import numpy as np\n",
    "import pandas as pd\n",
    "from scipy.stats import f_oneway\n",
    "from statsmodels.formula.api import ols\n",
    "from statsmodels.stats.anova import anova_lm\n",
    "\n",
    "# Generate example data for One-Way ANOVA\n",
    "np.random.seed(42)\n",
    "group1 = np.random.normal(30, 5, 100)\n",
    "group2 = np.random.normal(35, 5, 100)\n",
    "group3 = np.random.normal(40, 5, 100)\n",
    "\n",
    "# Combine data into a DataFrame\n",
    "data = pd.DataFrame({\n",
    "    'Group': np.repeat(['A', 'B', 'C'], 100),\n",
    "    'Values': np.concatenate([group1, group2, group3])\n",
    "})\n",
    "\n",
    "# Fit One-Way ANOVA model\n",
    "model = ols('Values ~ Group', data=data).fit()\n",
    "anova_results = anova_lm(model)\n",
    "\n",
    "# Extract sums of squares\n",
    "sst = np.sum((data['Values'] - np.mean(data['Values']))**2)\n",
    "sse = np.sum((model.predict(data) - np.mean(data['Values']))**2)\n",
    "ssr = np.sum((data['Values'] - model.predict(data))**2)\n",
    "\n",
    "# Print results\n",
    "print(f\"Total Sum of Squares (SST): {sst}\")\n",
    "print(f\"Explained Sum of Squares (SSE): {sse}\")\n",
    "print(f\"Residual Sum of Squares (SSR): {ssr}\")\n"
   ]
  },
  {
   "cell_type": "markdown",
   "metadata": {},
   "source": [
    "Q5. In a two-way ANOVA, how would you calculate the main effects and interaction effects using Python?"
   ]
  },
  {
   "cell_type": "code",
   "execution_count": 5,
   "metadata": {},
   "outputs": [
    {
     "name": "stdout",
     "output_type": "stream",
     "text": [
      "Main Effect of Factor1: 1833.7800670811328\n",
      "Main Effect of Factor2: 0.7838507282260517\n",
      "Interaction Effect: 8.36661047756611\n"
     ]
    }
   ],
   "source": [
    "import numpy as np\n",
    "import pandas as pd\n",
    "import statsmodels.api as sm\n",
    "from statsmodels.formula.api import ols\n",
    "\n",
    "# Generate example data for Two-Way ANOVA\n",
    "np.random.seed(42)\n",
    "group1 = np.random.normal(30, 5, 50)\n",
    "group2 = np.random.normal(35, 5, 50)\n",
    "group3 = np.random.normal(40, 5, 50)\n",
    "\n",
    "factor1 = np.repeat(['A', 'B'], 75)\n",
    "factor2 = np.tile(['X', 'Y', 'Z'], 50)\n",
    "\n",
    "# Combine data into a DataFrame\n",
    "data = pd.DataFrame({\n",
    "    'Factor1': factor1,\n",
    "    'Factor2': factor2,\n",
    "    'Values': np.concatenate([group1, group2, group3])\n",
    "})\n",
    "\n",
    "# Fit Two-Way ANOVA model\n",
    "model = ols('Values ~ Factor1 * Factor2', data=data).fit()\n",
    "anova_results = sm.stats.anova_lm(model)\n",
    "\n",
    "# Extract main effects and interaction effects\n",
    "main_effect_factor1 = anova_results.loc['Factor1', 'sum_sq'] / anova_results.loc['Factor1', 'df']\n",
    "main_effect_factor2 = anova_results.loc['Factor2', 'sum_sq'] / anova_results.loc['Factor2', 'df']\n",
    "interaction_effect = anova_results.loc['Factor1:Factor2', 'sum_sq'] / anova_results.loc['Factor1:Factor2', 'df']\n",
    "\n",
    "# Print results\n",
    "print(f\"Main Effect of Factor1: {main_effect_factor1}\")\n",
    "print(f\"Main Effect of Factor2: {main_effect_factor2}\")\n",
    "print(f\"Interaction Effect: {interaction_effect}\")\n"
   ]
  },
  {
   "cell_type": "markdown",
   "metadata": {},
   "source": [
    "Q6. Suppose you conducted a one-way ANOVA and obtained an F-statistic of 5.23 and a p-value of 0.02.\n",
    "What can you conclude about the differences between the groups, and how would you interpret these\n",
    "results?"
   ]
  },
  {
   "cell_type": "code",
   "execution_count": 6,
   "metadata": {},
   "outputs": [
    {
     "name": "stdout",
     "output_type": "stream",
     "text": [
      "F-statistic: 17.254545454545454\n",
      "P-value: 0.00029502605523036113\n",
      "Reject the null hypothesis.\n",
      "There is sufficient evidence to conclude that at least one group mean is different from the others.\n"
     ]
    }
   ],
   "source": [
    "import numpy as np\n",
    "import scipy.stats as stats\n",
    "\n",
    "# Example data for one-way ANOVA\n",
    "group1 = np.array([23, 26, 21, 25, 28])\n",
    "group2 = np.array([30, 35, 32, 36, 28])\n",
    "group3 = np.array([18, 20, 22, 25, 15])\n",
    "\n",
    "# Perform one-way ANOVA\n",
    "f_statistic, p_value = stats.f_oneway(group1, group2, group3)\n",
    "\n",
    "# Interpret the results\n",
    "alpha = 0.05\n",
    "print(f\"F-statistic: {f_statistic}\")\n",
    "print(f\"P-value: {p_value}\")\n",
    "\n",
    "if p_value < alpha:\n",
    "    print(\"Reject the null hypothesis.\")\n",
    "    print(\"There is sufficient evidence to conclude that at least one group mean is different from the others.\")\n",
    "else:\n",
    "    print(\"Fail to reject the null hypothesis.\")\n",
    "    print(\"There is not enough evidence to conclude that there are significant differences between the group means.\")\n"
   ]
  },
  {
   "cell_type": "markdown",
   "metadata": {},
   "source": [
    "Q7. In a repeated measures ANOVA, how would you handle missing data, and what are the potential\n",
    "consequences of using different methods to handle missing data?"
   ]
  },
  {
   "cell_type": "code",
   "execution_count": null,
   "metadata": {},
   "outputs": [],
   "source": [
    "import pandas as pd\n",
    "import pingouin as pg\n",
    "\n",
    "# Example data\n",
    "data = {'Subject': [1, 2, 3, 4, 5],\n",
    "        'Condition1': [10, 15, 12, None, 14],\n",
    "        'Condition2': [8, 13, None, 18, 10],\n",
    "        'Condition3': [11, 14, 16, 20, None]}\n",
    "\n",
    "df = pd.DataFrame(data)\n",
    "\n",
    "# Check for NaN values and drop rows with NaN in 'value' column\n",
    "df_long = pd.melt(df, id_vars=['Subject'], var_name='condition', value_name='value')\n",
    "df_long = df_long.dropna(subset=['value'])\n",
    "\n",
    "# Check if there are enough levels for the within-subjects factor\n",
    "if len(df_long['condition'].unique()) < 3:\n",
    "    print(\"Insufficient levels for repeated measures ANOVA.\")\n",
    "else:\n",
    "    # Repeated measures ANOVA with pairwise deletion\n",
    "    aov_result_pairwise = pg.rm_anova(data=df_long, dv='value', within='condition', subject='Subject', detailed=True)\n",
    "    print(aov_result_pairwise)\n"
   ]
  },
  {
   "cell_type": "markdown",
   "metadata": {},
   "source": [
    "Q8. What are some common post-hoc tests used after ANOVA, and when would you use each one? Provide\n",
    "an example of a situation where a post-hoc test might be necessary."
   ]
  },
  {
   "cell_type": "code",
   "execution_count": 12,
   "metadata": {},
   "outputs": [
    {
     "name": "stdout",
     "output_type": "stream",
     "text": [
      "ANOVA F-statistic: 27.46428571428573, p-value: 0.0009549722782215782\n",
      " Multiple Comparison of Means - Tukey HSD, FWER=0.05 \n",
      "=====================================================\n",
      "group1 group2 meandiff p-adj   lower    upper  reject\n",
      "-----------------------------------------------------\n",
      "     A      B   5.6667  0.018   1.2478 10.0855   True\n",
      "     A      C     -5.0 0.0307  -9.4188 -0.5812   True\n",
      "     B      C -10.6667 0.0008 -15.0855 -6.2478   True\n",
      "-----------------------------------------------------\n"
     ]
    }
   ],
   "source": [
    "import pandas as pd\n",
    "from scipy.stats import f_oneway\n",
    "from statsmodels.stats.multicomp import pairwise_tukeyhsd\n",
    "\n",
    "# Example data\n",
    "data = {'Group': ['A', 'A', 'A', 'B', 'B', 'B', 'C', 'C', 'C'],\n",
    "        'Score': [20, 22, 18, 25, 28, 24, 15, 14, 16]}\n",
    "\n",
    "df = pd.DataFrame(data)\n",
    "\n",
    "# One-way ANOVA\n",
    "f_statistic, p_value = f_oneway(df[df['Group'] == 'A']['Score'],\n",
    "                                 df[df['Group'] == 'B']['Score'],\n",
    "                                 df[df['Group'] == 'C']['Score'])\n",
    "\n",
    "# Print ANOVA results\n",
    "print(f'ANOVA F-statistic: {f_statistic}, p-value: {p_value}')\n",
    "\n",
    "# Post-hoc Tukey's HSD test\n",
    "tukey_results = pairwise_tukeyhsd(df['Score'], df['Group'])\n",
    "print(tukey_results)\n"
   ]
  },
  {
   "cell_type": "markdown",
   "metadata": {},
   "source": [
    "Q9. A researcher wants to compare the mean weight loss of three diets: A, B, and C. They collect data from\n",
    "50 participants who were randomly assigned to one of the diets. Conduct a one-way ANOVA using Python\n",
    "to determine if there are any significant differences between the mean weight loss of the three diets.\n",
    "Report the F-statistic and p-value, and interpret the results."
   ]
  },
  {
   "cell_type": "code",
   "execution_count": 13,
   "metadata": {},
   "outputs": [
    {
     "name": "stdout",
     "output_type": "stream",
     "text": [
      "ANOVA F-statistic: 9.411111111111106, p-value: 0.010372071217030343\n",
      "There is a significant difference in mean weight loss between at least two diets.\n"
     ]
    }
   ],
   "source": [
    "import pandas as pd\n",
    "from scipy.stats import f_oneway\n",
    "\n",
    "# Example data\n",
    "data = {'Diet': ['A', 'A', 'A', 'B', 'B', 'B', 'C', 'C', 'C', 'C'],\n",
    "        'WeightLoss': [3, 4, 5, 5, 6, 7, 2, 3, 2, 4]}\n",
    "\n",
    "df = pd.DataFrame(data)\n",
    "\n",
    "# One-way ANOVA\n",
    "f_statistic, p_value = f_oneway(df[df['Diet'] == 'A']['WeightLoss'],\n",
    "                                 df[df['Diet'] == 'B']['WeightLoss'],\n",
    "                                 df[df['Diet'] == 'C']['WeightLoss'])\n",
    "\n",
    "# Print ANOVA results\n",
    "print(f'ANOVA F-statistic: {f_statistic}, p-value: {p_value}')\n",
    "\n",
    "# Interpret the results\n",
    "if p_value < 0.05:\n",
    "    print('There is a significant difference in mean weight loss between at least two diets.')\n",
    "else:\n",
    "    print('There is no significant difference in mean weight loss between the diets.')\n"
   ]
  },
  {
   "cell_type": "markdown",
   "metadata": {},
   "source": [
    "Q10. A company wants to know if there are any significant differences in the average time it takes to\n",
    "complete a task using three different software programs: Program A, Program B, and Program C. They\n",
    "randomly assign 30 employees to one of the programs and record the time it takes each employee to\n",
    "complete the task. Conduct a two-way ANOVA using Python to determine if there are any main effects or\n",
    "interaction effects between the software programs and employee experience level (novice vs.\n",
    "experienced). Report the F-statistics and p-values, and interpret the results."
   ]
  },
  {
   "cell_type": "code",
   "execution_count": 15,
   "metadata": {},
   "outputs": [
    {
     "name": "stdout",
     "output_type": "stream",
     "text": [
      "                           sum_sq    df     F    PR(>F)\n",
      "C(Software)                  16.0   2.0   8.0  0.006196\n",
      "C(Experience)                 4.5   1.0   4.5  0.055405\n",
      "C(Software):C(Experience)    84.0   2.0  42.0  0.000004\n",
      "Residual                     12.0  12.0   NaN       NaN\n",
      "There is a significant difference in average time between software programs.\n",
      "There is no significant difference in average time between novice and experienced employees.\n",
      "There is a significant interaction effect between software programs and experience level.\n"
     ]
    }
   ],
   "source": [
    "import pandas as pd\n",
    "from statsmodels.formula.api import ols\n",
    "from statsmodels.stats.anova import anova_lm\n",
    "\n",
    "# Example data\n",
    "data = {'Software': ['A', 'A', 'A', 'B', 'B', 'B', 'C', 'C', 'C', 'A', 'A', 'A', 'B', 'B', 'B', 'C', 'C', 'C'],\n",
    "        'Experience': ['Novice'] * 9 + ['Experienced'] * 9,\n",
    "        'Time': [10, 12, 11, 14, 15, 13, 9, 10, 11, 16, 17, 15, 8, 9, 10, 13, 14, 12]}\n",
    "\n",
    "df = pd.DataFrame(data)\n",
    "\n",
    "# Two-way ANOVA\n",
    "formula = 'Time ~ C(Software) + C(Experience) + C(Software):C(Experience)'\n",
    "model = ols(formula, df).fit()\n",
    "anova_table = anova_lm(model, typ=2)\n",
    "\n",
    "# Print ANOVA results\n",
    "print(anova_table)\n",
    "\n",
    "# Interpret the results\n",
    "p_value_soft = anova_table['PR(>F)']['C(Software)']\n",
    "p_value_exp = anova_table['PR(>F)']['C(Experience)']\n",
    "p_value_int = anova_table['PR(>F)']['C(Software):C(Experience)']\n",
    "\n",
    "if p_value_soft < 0.05:\n",
    "    print('There is a significant difference in average time between software programs.')\n",
    "else:\n",
    "    print('There is no significant difference in average time between software programs.')\n",
    "\n",
    "if p_value_exp < 0.05:\n",
    "    print('There is a significant difference in average time between novice and experienced employees.')\n",
    "else:\n",
    "    print('There is no significant difference in average time between novice and experienced employees.')\n",
    "\n",
    "if p_value_int < 0.05:\n",
    "    print('There is a significant interaction effect between software programs and experience level.')\n",
    "else:\n",
    "    print('There is no significant interaction effect between software programs and experience level.')\n"
   ]
  },
  {
   "cell_type": "markdown",
   "metadata": {},
   "source": [
    "Q11. An educational researcher is interested in whether a new teaching method improves student test\n",
    "scores. They randomly assign 100 students to either the control group (traditional teaching method) or the\n",
    "experimental group (new teaching method) and administer a test at the end of the semester. Conduct a\n",
    "two-sample t-test using Python to determine if there are any significant differences in test scores\n",
    "between the two groups. If the results are significant, follow up with a post-hoc test to determine which\n",
    "group(s) differ significantly from each other."
   ]
  },
  {
   "cell_type": "code",
   "execution_count": 16,
   "metadata": {},
   "outputs": [
    {
     "name": "stdout",
     "output_type": "stream",
     "text": [
      "Two-sample t-test: t-statistic = 2.954676964711366, p-value = 0.003919663378129135\n"
     ]
    },
    {
     "name": "stderr",
     "output_type": "stream",
     "text": [
      "c:\\Users\\parag\\AppData\\Local\\Programs\\Python\\Python311\\Lib\\site-packages\\pingouin\\pairwise.py:28: UserWarning: pairwise_ttests is deprecated, use pairwise_tests instead.\n",
      "  warnings.warn(\"pairwise_ttests is deprecated, use pairwise_tests instead.\", UserWarning)\n"
     ]
    },
    {
     "name": "stdout",
     "output_type": "stream",
     "text": [
      "  Contrast        A             B  Paired  Parametric         T   dof  \\\n",
      "0    Group  Control  Experimental   False        True  2.954677  98.0   \n",
      "\n",
      "  alternative    p-unc   BF10    hedges  \n",
      "0   two-sided  0.00392  9.269  0.586401  \n"
     ]
    }
   ],
   "source": [
    "import pandas as pd\n",
    "from scipy.stats import ttest_ind\n",
    "from pingouin import pairwise_ttests\n",
    "\n",
    "# Example data\n",
    "data = {'Group': ['Control'] * 50 + ['Experimental'] * 50,\n",
    "        'Test_Scores': [75, 78, 80, 85, 72, 73, 79, 82, 88, 90] * 5 + [65, 70, 68, 72, 75, 78, 80, 85, 82, 88] * 5}\n",
    "\n",
    "df = pd.DataFrame(data)\n",
    "\n",
    "# Two-sample t-test\n",
    "control_scores = df[df['Group'] == 'Control']['Test_Scores']\n",
    "experimental_scores = df[df['Group'] == 'Experimental']['Test_Scores']\n",
    "\n",
    "t_stat, p_value = ttest_ind(control_scores, experimental_scores)\n",
    "\n",
    "# Print t-test results\n",
    "print(f'Two-sample t-test: t-statistic = {t_stat}, p-value = {p_value}')\n",
    "\n",
    "# Post-hoc test\n",
    "posthoc_result = pairwise_ttests(data=df, dv='Test_Scores', between='Group', parametric=True, padjust='bonf')\n",
    "\n",
    "# Print post-hoc test results\n",
    "print(posthoc_result)\n"
   ]
  },
  {
   "cell_type": "markdown",
   "metadata": {},
   "source": [
    "Q12. A researcher wants to know if there are any significant differences in the average daily sales of three\n",
    "retail stores: Store A, Store B, and Store C. They randomly select 30 days and record the sales for each store\n",
    "on those days. Conduct a repeated measures ANOVA using Python to determine if there are any\n",
    "significant differences in sales between the three stores. If the results are significant, follow up with a posthoc test to determine which store(s) differ significantly from each other."
   ]
  },
  {
   "cell_type": "code",
   "execution_count": 17,
   "metadata": {},
   "outputs": [
    {
     "name": "stdout",
     "output_type": "stream",
     "text": [
      "Repeated Measures ANOVA Results:\n",
      "  Source      SS  DF          MS      F         p-unc       ng2       eps\n",
      "0    Day  4462.5  29  153.879310  21.25  1.770479e-21  0.040693  0.034483\n",
      "1  Error   420.0  58    7.241379    NaN           NaN       NaN       NaN\n",
      "\n",
      "Post-hoc Test (Tukey's HSD) Results:\n",
      "  Multiple Comparison of Means - Tukey HSD, FWER=0.05  \n",
      "=======================================================\n",
      " group1  group2 meandiff p-adj  lower    upper   reject\n",
      "-------------------------------------------------------\n",
      "Store A Store B    -33.0   0.0 -37.6122 -28.3878   True\n",
      "Store A Store C     50.0   0.0  45.3878  54.6122   True\n",
      "Store B Store C     83.0   0.0  78.3878  87.6122   True\n",
      "-------------------------------------------------------\n"
     ]
    }
   ],
   "source": [
    "import pandas as pd\n",
    "import pingouin as pg\n",
    "from scipy.stats import f_oneway\n",
    "from statsmodels.stats.multicomp import pairwise_tukeyhsd\n",
    "\n",
    "# Example data\n",
    "data = {'Day': list(range(1, 31)) * 3,\n",
    "        'Store': ['Store A'] * 30 + ['Store B'] * 30 + ['Store C'] * 30,\n",
    "        'Sales': [150, 160, 155, 140, 145, 155, 165, 160, 150, 155] * 3 +\n",
    "                 [120, 130, 125, 110, 105, 115, 125, 130, 120, 125] * 3 +\n",
    "                 [200, 210, 205, 190, 195, 205, 215, 210, 200, 205] * 3}\n",
    "\n",
    "df = pd.DataFrame(data)\n",
    "\n",
    "# Repeated measures ANOVA\n",
    "aov_result = pg.rm_anova(data=df, dv='Sales', within='Day', subject='Store', detailed=True)\n",
    "print(\"Repeated Measures ANOVA Results:\")\n",
    "print(aov_result)\n",
    "\n",
    "# Post-hoc test (Tukey's HSD)\n",
    "posthoc_result = pairwise_tukeyhsd(df['Sales'], df['Store'], alpha=0.05)\n",
    "print(\"\\nPost-hoc Test (Tukey's HSD) Results:\")\n",
    "print(posthoc_result)\n"
   ]
  }
 ],
 "metadata": {
  "kernelspec": {
   "display_name": "Python 3",
   "language": "python",
   "name": "python3"
  },
  "language_info": {
   "codemirror_mode": {
    "name": "ipython",
    "version": 3
   },
   "file_extension": ".py",
   "mimetype": "text/x-python",
   "name": "python",
   "nbconvert_exporter": "python",
   "pygments_lexer": "ipython3",
   "version": "3.11.3"
  }
 },
 "nbformat": 4,
 "nbformat_minor": 2
}
